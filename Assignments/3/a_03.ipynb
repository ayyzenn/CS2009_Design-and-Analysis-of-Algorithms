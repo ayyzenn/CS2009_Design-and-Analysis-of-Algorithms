{
 "cells": [
  {
   "cell_type": "code",
   "execution_count": 1,
   "id": "16aa024c",
   "metadata": {},
   "outputs": [
    {
     "name": "stdout",
     "output_type": "stream",
     "text": [
      "[2, 60, 69, 70, 80, 85, 86, 86, 87, 100]\n",
      "[80, 85]\n"
     ]
    }
   ],
   "source": [
    "def ftn(l1 , l2):\n",
    "    \n",
    "    median_list = []\n",
    "    final_lst = []\n",
    "    \n",
    "    i = j = 0\n",
    "    \n",
    "    while i < len(l1) and j < len(l2):\n",
    "            if l1[i] < l2[j]:\n",
    "                final_lst.append(l1[i])\n",
    "                i += 1\n",
    "            else:\n",
    "                final_lst.append(l2[j])\n",
    "                j += 1\n",
    "\n",
    "    while i < len(l1):\n",
    "        final_lst.append(l1[i])\n",
    "        i += 1\n",
    "\n",
    "    while j < len(l2):        \n",
    "        final_lst.append(l2[j])\n",
    "        j += 1\n",
    "    \n",
    "    length = len(final_lst)\n",
    "    \n",
    "    n1 = length//2\n",
    "    n1 -= 1\n",
    "        \n",
    "    n2 = length//2\n",
    "    \n",
    "        \n",
    "    median_list.append(final_lst[n1])\n",
    "    median_list.append(final_lst[n2])       \n",
    "    \n",
    "    print(final_lst)    \n",
    "    print(median_list)\n",
    "    \n",
    "    \n",
    "l1 = [80,85,86,87,100]\n",
    "l2 = [2,60,69,70,86]\n",
    "\n",
    "ftn(l1 , l2)"
   ]
  },
  {
   "cell_type": "code",
   "execution_count": null,
   "id": "5113f177",
   "metadata": {},
   "outputs": [],
   "source": []
  }
 ],
 "metadata": {
  "kernelspec": {
   "display_name": "Python 3 (ipykernel)",
   "language": "python",
   "name": "python3"
  },
  "language_info": {
   "codemirror_mode": {
    "name": "ipython",
    "version": 3
   },
   "file_extension": ".py",
   "mimetype": "text/x-python",
   "name": "python",
   "nbconvert_exporter": "python",
   "pygments_lexer": "ipython3",
   "version": "3.8.10"
  }
 },
 "nbformat": 4,
 "nbformat_minor": 5
}
